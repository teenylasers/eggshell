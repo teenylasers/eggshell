{
 "cells": [
  {
   "cell_type": "markdown",
   "id": "ef7b87a5",
   "metadata": {},
   "source": [
    "# How to use Mujoco for 3D LLM"
   ]
  },
  {
   "cell_type": "code",
   "execution_count": null,
   "id": "92d9d353",
   "metadata": {},
   "outputs": [],
   "source": [
    "import mujoco\n",
    "import mediapy as media  # For renderer\n",
    "import numpy as np"
   ]
  },
  {
   "cell_type": "code",
   "execution_count": null,
   "id": "9c8c8314",
   "metadata": {},
   "outputs": [
    {
     "data": {
      "text/html": [
       "<table class=\"show_images\" style=\"border-spacing:0px;\"><tr><td style=\"padding:1px;\"><img width=\"320\" height=\"240\" style=\"image-rendering:auto; object-fit:cover;\" src=\"data:image/png;base64,iVBORw0KGgoAAAANSUhEUgAAAUAAAADwCAIAAAD+Tyo8AAAnTElEQVR4nO2d248c1Z3Hf9XjGc+MPZ7xjAebm20I4xsoLBDWkIgQkVUeNndQIkV5WuUhUp6Q8pAIQiLlP9i/IA/Zh+QFQiABkigRSpQluxKBTQB7jMFmbI8xnpuZe093rU6d6tOnzq1OVdflVPXvq1JTVX26us30p7+/3+9cCgCFQqFQKBQKhUKhUCgUCoVCoVAoFAqFQqFQKBQKhUKhUCgUCoVCoVAoFAqFQqFQKBQKhUKhUCgUCoVCoVAoFAqFQqFQKBQKhUKhUCgUCoVCoVAoFAqFQqFQKBQKhUKhUCgUCoVCoVAoFAqFQvWZZmbg9GmYnCz7c6BQCeVBf2tmBu66q3u4uEi2hQXyWHtNTpJ//rlzZL8f/r21VF8DLNDLa3GRfLNr/LWWf7mQ5CqqTwE2oNsPJPfzL1fN1HcA26Nby691n/9y1U99BHA6dAW9/TZcvAgVVZ//eNVSfQHwzAx57JHe7W1oNuHqVZidhf78/UKSHVT9Ac7EeNfWYHU13H/9dejD/wO8kGR3VGeAM0e3igDT/wle8Hf2/YwvjiSXrnoCnAm6NGYW6AUgX9mPP4ZK6PRpmJoK93mGMyTZ88jVkOSyVDeAM0l3lcbLND9PtgoZL6OXiQHcI8nCZRcWyCOSXKR2QY2UU8xcOZnpVZ5JQbJ8Eer2U1NIcnGqiQPnGjMLWl11txBNR0cKYbMy6BWU1JOVPwqze+HcXpjagplVmNwOQ2skOVdVHuCsSqyJjNfNOlas8RpiaeGMGWMlvef2wewYgB9s5BIiyThUMw9VOIQuBV1nNTMT5v+xYbMSbEasmXDdjwKhdx896AK8MEy2kOTd8NAUkpy9qurA5dLrVCF6agoeeiimjUyv0LGkC6FjI2pC73iHXqFxh2S6M7VFdtCTs1UlAX7sMRgchEajNON1pxB97BjZDCmu72vp5SUArORWPul58NpBWNhNn+abqvYpyT7MXIeZZvea2AXVdwAfPQpHjsDAQEqMe4+ZHQH4+PEIvZa1ZWUYLLQXfgKUWhgm9HYa8VfR728ALMFDLZj0FNdHkvsrB261yJYU40wy3rGxkgE+fpxsOrHw2MCq3NjMtgzzuaEAyN0AA3wLzhTYPn3VJsCVYGdI8aa+T0rop0+TfSS55gBfuEAcOCnGmaBLv21jY+ACvQJvhkOdo+pSYv61fEwudkHtBBv9HulIpjsbAJfDZ6Y6fyYBY3ZlJLnmAMuiGAMQjAcGRJKzqjPbGFreOnGC0GtGVxZrINiywXiVnEcvyiFKSd4VMEwfw6sEbRaCTf/ZZIapkORYOfCV7CEN1ok35AyNl9fsbNGF6BMn4OTJmDYy2DbZLANb11j5wl9PyFfp7DBD9gN0r3ebTDXgoSH1B4j9kEhybR1Yaci+n6Pxjo0VCvDJkwRgz4t4KS+dJyu9V+4rok/pnFzNNuvy7bajT3OhdStCr/Jqwknls0zoyTUBmE+D84t4DV/oIvXZz8KBA116E80NVBa0hChaHrxhLoB1GePbsM/DF7GCvIbX1ID2n2DJME/yYt8P1awqwACwvAwTchQX1cBAmBunkM1QxLx18iScOhWxU96Ezd22SmJ13iu8kF1WN0LruvzF4bllZ7bFVgcGTKAmYhgCjOmsyb4lucIAr6zEA7xrVxqAY9H1PNi3D67QTpHcdOoU2Ri37DMwjHnAkk5CkMtXQtWKsc3eRSxrKe2XD6QBYEv6ANz1M2G4z0muMMDLy/FRdArFTr4roCdpepqgOz0dsVyeXn5Hzk75R12FOfafKV/EYMhq+1WJhtDCJ8mEYZnkfhiqWW2AYzU0BFuSCfRivObGmejUKbj7brXl6gJpJbr8ed2ADR0efFlLSXK3Dyl8gcp+VQ5sOW6sF4aV5a66klxhgAHICq+xJmyTBqdDd98+uHEDstX+/WSSRrtNgn+BVaUDC4CZ3Th27IeScDmc9jwpBxYcWMA4mgALn4d/i2wZ7geSqw2wjWLTYDO9BtcdG8seYADY2CDb4CCMjpIIwuzAloE0f948V0FJuBw8R3JgXQIsVbDk7NpsxVkxXOMuqGoDbNOZlInxFlZ8XloKd5pN8uswOAh790YwVloxk40b6+YM2swEZtf5aCBxAnxgGB7ZF4yI7lxfHqSpGyWmTJVTq04kVxtgm84kXRpsabwGdPftg8ud8b05qdkk/0DPI/8KgWTBkKli0eXPs82mw4y1pI8Hh+Bamz3HXqM6ZPQeBPg4AasC3kLjTDRZfZIrD7BNZ5KQBqeOmYXz++gs9nwkuOv2Nvl6DQ2RN929W23ISioMHcX0fLttNQ2Yj9V9Hz45Agc9+McmfLijT4A7Zjs9DI8c6j6vZNU+os7QimtAcuUBtulM4tPgHo23gFh6aYmUspRqNsmCj55HGBZIlk1YRlqW75MR47wbC88q3Y+cGYZDPhwaImc+bEZJZhgHgc/0MDx6czCTn34Yva/aR9TZ+rCS5KrcBKsOAFuqF+PVYZBHIVp4U+Vbb23B9esE4PFxGB4Omwlpqo14btvt7mt1oXW36M39fzs0RLarTYA2/N8WXKOjoINm0yOEXtKM8tkKpiepqs0pImo/H4ZZvBMrinq5le3KA2zTmTQ0RP4kqY3XcDIngA3vyD9ubcG1azAyQhhmeYTut8YQRdOnBCuWR1NGPkzQmAfs0CB5/LdBuNYMMb5pBD431blIMHmY7/dS9lGbs1/+VbkyvLYWP1NlZqY7aKTEPqo6AJxClqVmeyvOUEtL4TfD5u08DzY3CckrK4TkiQnymPRrLXPLuzFNkvnGMEQcmGAWWKsQ9940SDAmlwoC7O7M/qC9odxtmf3yfUtU2WK8tBQP4eSkuKZiWb3NdQDYpjOJN2Eb47VEd3wcLl2CPBRrwrI2N8ndT0dGSApN42p7CQA3Gt3iluDM5N0bxIG71uoRjAnzAaq0fUgdha0dxs+UZGVwbpP9Khn2My1rra2R70nsekn8Cr6CCia5DgDnbbzmELoYWQbVdBzIZlD+HRkhX6aRkfC8zVecL0rLxa3usx74dM2Tjjn7LALv8Oy3oB3sBEwHmO10A28zxrqIOm+Gt7etJpCz4NmFynZNALZJg5vNxBlvKSG0+b3sP8DmJpkvNTJCFo5mGJul5JYPp8NnR8EfCGBuEHYJrrSsFZgt+GGAHVqxH8z8b0E7KG7JabAZY6FAnR/D29vhKJrVVVMCLAfP5ZJcE4Dtldp4CytELy0lrqUZfnQ2NsLRJgcOEIxHRxMkw3I4HW4D0KYhdJuw2m4HoXHHbGlWTCc8eJToHfBWuz8NKTDWpb5edgyvrYU75viZophOeZBcE4At02DZhJkMDJhNb3w8x54kwwcwfyr5d+p6sLTNnj2EZAPGJuPtbO018JoAo+APQrvFOW1gxW2a6gYAk9B6B/y1sNuJzWHWDd6MrW/pCtfQG8M09Y1VL/TmRHJNALZcoCNzevNTUhPm93VRhufB+jp88AHBeHpai7HWeCm9wcn2NgxsQXuQfIPag+ANdutVDbpDPbZF6GVDteTqlNJ4Ywd4ZMvwGrfsoSF+tkx9Cya5PgDHjqkcHCQObE+vDbp54C38FZWVZ3M52vzZKMYXL5IdA8nCFEKe3m4fbJMMtyIl6EGAveANBVUtmvQ2COTeapdefgkRm/hZDpUNIzq8tAxbFq5SpL7pSH733bB23XcA24ypzIpe/tnxcZibAxekLEoLzwqHa2tk27MHDh4kj7wUkTOrOXdi7O5hE/xFgnFjKOj+HSRnGtHImaTKGiuOPZMfw2ud1NecABv6jbIVvTd6nwIcK2rCTMpQM6mtjY+DI/GzzQWV7dfX4f33yc7YGCGZGTKPLg9MK8h72WEYVLeh0QR/O3Dg3dDe6ETR0ZFeghULkqc3pGaYyszw0pKY+irj5zyCZ6WuXk0cRdcHYMsFOlLTW2KXkk38bLBfm4Er9OTqKtkoxnv3dulllKrtt/PyVqsD53ak5sy/haUVC16agmHgQ327wpUyls47eGba3ibxc1LVCuBY8b4h7JiTxlgTXlnJOA2mP/kZ/kaY6ZUx3ruXkDw6SrZY+5XBlok1WLGuuKWsQseuwuNZMKxMfZXxc1aV50wGYNcc4NjOJPrNS02vzrgyB9j8McxFrKyYpxgDEJIPHgyHgrTbZHK1zn7p/15W6FISyz/LW7EyYObfJZZhL86clSuf8JL5KYze7e2UsxdrBbBNZ9LgIOx0hgQx2ZBQZPcSc+BExfAU/wqbgjYlmRa6hocjYMj2yxeulcTyobUMtgwqf305VPaSMMyuo6RXNuTCUt9e7uBVN4BtFuhISm/SvqWs1LvBxobNsT9SjIG1NTh/nuyMjpKeJ37Ok2C/1KJZ5qwjlg+t2Y7wSXQJsG7uIRgZpmdWV9VjNoT4ubDUl00/TnerrboBHNuZ1GgkoNfGdf/xj6Lj50xapn4V7XliGBviatYRJVuxzDM/dCS2iCWnu56KVZnhrS1boyus34hGBKnvF19DgM3ibx1sT6+y5QcfkK14mUvN8hnL36NEOQLFmBoyP1lCiKt5j1XWpRnnArryvrm+5Wv8lj9vWGdDGIBVfPCc+k6XxnvaV1OxxQC2Zros5Ze+eHoXF20pLb43S/hgdGzm3ByZ/NRodLeBYA13Gu8IO3SfP8NfVri+8Ifgm3nS30j+zeUfLSEpOHheXU1vvzV0YEuZO3VjU8cCwmazYqG17PvNhH86NpPG1XQSMh9X8wMwheCZN1651GT4tLoata/3YV3qS8UQYkMaK2G/9QTYpjPJcK8G8ze++LA5pwQ4tjeY7VgOKqYYr6+TaU+jo91VQczBM5/l6nJg5XslYng1DhL2bJGp7/Y22Xq8TXwNQ+hE390b+8j2cTAcUojKZM3NFUTv4iL87W/q3g6liqyN22h9nUxCvnKFFI1YzMw24VC+/xNrQGX4o3jSfd7kWHp7O2a+JytrFZn6smHYvcTP9XRgeUzlcjBMf4UO1vfIYdsn3NJDokX49I3yq828FhfhtddIfWhmhjza164Sla9iA2yDYotGGxuEZABixfv3k/nYQqeRbLzs0OD88lOesXM4drY2RajI1JcN5EzX91tTgG/pPi5PwPKtsEwH5bOvJrsfl/BlDQ5v7MD4oPqrPDdX2hrfCwvh9JRjx8hWupJO1qMt6eI+FOPduxUZL22WIiUGVZ8T/7Ny7Vr8/WVpEFtk8Mxsv0f7rRrAN3OPUWKJODiXNZSK4ti+sU0AdopeXrOzZJuaguPHyZIasmy6kZiEsccZRuAGtinGAGSkzdAQ4VlnvIIzK/t7leM3BEO+cSOeXgrS6dMlBM89lq9cBZjyeUhzyFso/7Wz/woKr+3srDThsOdctVnQwgL89a8E4OPHw7g6nfLImXVduLq+enp3GBpX85/K4MzK91KKjtmw+dvNzxed+rLIuXf7dQzgf+dATScJSy3wUmi90nRikIaNrl8nG8X4wIHsabS5oH0srWu5uUk2hrEukI5NiUFly5ub8OGHNv9WMja+yNQ3W/t1DOAe6e2F80ArzTANdpleGeMTJyJBtX0XcfHSYez7hOSxMUIyw1VJsmUUvWIXN507B6dOQZGiXUdZ2a9LALPM1qCk3zxDpC1XtjoAuxY2m3X9OvzlLwTgkyeTYZw3yfYRNdXWFtmGhgjGg4OKlNi+U3plJVza3qz5eTLUZM+esKe6GLEVfDKxX5cATidlhBxXr1I0o1H0Cvzldaiirl+HP/+Z7Jw8Sbay/NYcVxsMk2l7O1z+dmiIoDU4qB0FrbvayorV4kp0AOO995IhPa0WIZkO/8yVZLYGSO+9R+4BbB8/KxNaXbNEIXQQP1da77xDtulpgvH0NDgoG4yZIQ8OkuUEhLHrhpdvbdnebpZGsGzmKcW42SQMU//PQ4zbrOLnqoXQNjL0Hjk2XCk/ffQR2SjGN90kPqtcxtVe9p3A9q/SPUvnDw0NEagGBwldfC+RLMuxa/PzJIJVzhtnhkzrWxmSzD5bVuUrxwDOVTZuTDUN8BHUDONTpyJuXEDqq4ulLe1XWfjxfULUyAh5ZP3DvJaXrVJfNvvHMGCeDpWnJGeCMatdZWu/LgGcVQeS8jC2fbSaVSd99BG8+qoC46yUwpDNGBsu2GwSDCjGNF9tdwpdS0tW9ru6SsbD2IsaMkCvJLPaVbb26xLAKWSZDMsvMZzcUx8H1mEsB9VFxtKWVzPUwyjGNMQdHiZQbW4mCJ6pJiZsb8QjhNYpMM7Pfp0B+OY8oU0k48376oExANx9d0H9n0k7kywvRdVskm3XLtsxGzT17UXpDJm/+UO29usMwDbysg6kdc/uAYjebqN+eustst10EyE5aVydoevqqI6disQ32NiweiNh4Qv7GwD0aMj88vGZ268zAOc6Bst+VoPXLwBTXbtGNoqxLq424Gq2Vsve4BRXSKd5Dp6k8XNqQxYmDGbY/esYwFn1IfWS/Rqa9RnGSfuZsupVSofxhoUDnzuXfezKSzcahA+eMy9fuQRwtuoRwpsArkG/ycaN7WcCZRtmm9WMzkKxSX17jJ91EkaD7OxEVuHKI352BuBs+5DsFdyHOtxBcRjfcw95zITDdHUsgxvzTzXj6FWu+ZhJ/BxLMl2NhH2MnEKAXVWNn3MqR9MLHgSwK2zWUteuwR//SHbuuYeUuARD7p1q+47fdE/xKp5eIT3WfYwaAZxUeaep/ZcG6/TPf5JHXVydbSydjtWNjcT9RjnFz4L4lUDys183AE46jSFzyV+O6L3q+1y69LhHK86k8tzUh9C6BdMLc2CmXOtnu+o5E9iQ7hrOMO3t+e1qjbHQdVxk1co+AZ6ddYLeXONnNwDOWwKoBm557QXIodeuThiz9QMsV9VJql4S4HPn1OdLiZ9z1a4+WknHUhRvBDgOY1rfymRIZrYJ8HzPQyYrUb5yA+AChnCYpTRkrGNZT1d8661wnlPvU52SYtxUhdCGe4VlNQDLkfKVGwC7E1cLOghwtdBPVF29/TZ55Gcs9hL9WsbbugR4PmfHc8p+Hbg3Uh7xs2/9lKElmnCqqU6vvkp2cpVhmOe8MXguIAHm6S3Afh0AONcQmvFp/kX3pTYsDUb1hnF+9zTlxzlRxd5ot+D4uZhYoC9D6NhCtGWlWtIdd8B3vkO+nX/6E/zhD9C34hflUt4IpvdwWgihV+OW2iiAXqH3qJhC2q4+KkEr+5PYI2/CqZbX+dzn4LHHwv3Pfx4+8QnC8Pnz0LdiGNPV57Odyi9oPs7uCoifi+w9cgZgG8WyZDBMm/EbOhMYS9CT9OijBGB2G2vfJ2783e+Su43/7nfw7rvQ5xi/807oxjpD7sWN5y36jYqZwMB/pD4AOFEC7CWcXWQTJPPNehhL9OijZBPfIbjgnXfC974H770Hr7yiHV3QJ3rnHfIo3wsmhYR5tvNxtNSv96hSDswrRWoqs6p8lh0m1Gc/C488EryUW041vFhgyL5Pbp917BgJp196KdmqiPUTuxeM8j6pKfqQZi3+fxZcfy6yK2tXbRNgJbFC3ttzLfTb34ajR1VvHr0PCMP4ySdJOP3ii4hx9waL8n1SzRjz9J5zI6gpvveogiF0tvIB6C1n6f/64c5JXka8Dx+Gb31LtFzxTTqezOfGMzPw/e/Db34Dv/419LnMGMdq3m7IZAEDsIrvPapsCB07M0FIa70AVHZ7aB5aQeMAH9vS++lPw2c+03mTKJ/mR9byS1+Cr3yFWPGvfgV9LooxAMH42LF4N2b31523Q6Xg8lXBw7AbNQmhqaO2gm0HYDvYNgE2ALYAmp2NNlBqH3cpox5+mACsRFT90SR6WeMvfxl+9rOeuljqpLNn4YUX4L//GxYWxKf4GCfp/XXHx6Gu9luqA6eOn33OZttFL2f18MNk42NjzwtvMMsODQDzJNNXtdvwgx+Q7+7zz4d12j7XwgJheGqK5BpCXO15XXotjW4i5/hZsN/Cun8rFUJTRFkYnJMOA1yK+Tl46CE4fbrzoSRWGZnC3b34PFmmlz4eP04wnp2F555DjIkWFshGMZ6cjDxlHzwXoLJ6jxwYs39fsAkqd3XIt4KRGwNBYjEQzEa60n3y8cfh9tsJh3RrNLo7JBUJDgcGwjPCIX0UDnWPZ896zz7rI8ZMFOP9+8n+0hK89lqC1957b74OzBOb9+rT7jmwa4u57lMPvbr1Vvj617vVFOalfBTNL3fKn+QzXrojeG/00fN94sZPP+2dOQPPPuvTmXp9LurGk5ME46T9RhM5x8/l2m/Zs+b+A9zSHMDlwHupCX9IHPjBB8lGbZb3Sea6ghuzBmwTzvMviT56csuzZ+GnP3Xtd64ympggDpyf1te7DJdiv2VXod8At3R79HAMPvUpsgkuKheT5QKVkBJT46WpL3+eO+mxfb7liRPwi1943/gGzk5OoyNHCipflWW/ZQP8d3BOrDMJ4IGTXXrlSjIVO6Pr8pXpFUgW6BXAptsTT8Avf+l985uIsUPx8xZXvipxCa6yJ/S/4STAPjxwBzxwVM2nAKfhKclm5UdPoFdwYP7x8ce9n/ykcffdiLEr4zeYSqyKlw2wg/Lh/mm4/wjZSeq0SpIpgRY+rGa41YJ222u1COcnTsAzz3g//nHj1CnEOEa5xs/8XcuK7/t1CWDXoujbgsc4dJVmK7TnydQ4sKdrIKfHAcZka7W8Eye8Z55pPPMMYlyadna6++V2SpcNsLNRNFulI86EZR9mZstQFA4FepWpr45elhifOOE9/TRiXMIALEfKV84A7JoJj5Hl7PxtRe3KxoRVFebIjiErFphvt7X00pNBmZpg/KMfIcbFqdzBz+4B7J4JExQlaC0zYV3qq+s00pDsRekND3l6+f3jx72nnmo88YQbf81aJ8Atl+zXGYCdMuFbOztNWxPmR1nJqa9wHiCGXganxoe7zdhJCvxXv9r4+c93Pf64G3/TmsbPWy7ZrzMAu2bCe2NKU7q5voxVjfGG3muoSDNiBXp5YjulaWbUHk/1177WeOqpgZMnMaLORSVO/a3sbKTCdegA+E0SRZOFd6Txz0w8yWxSId2hYyHpGaZ226OHtIFyOLTnkTb0gh5R993pTmfcNXmKf5YdAsCxY40f/rBx5oz/3HOtM2f6biTmkTzjZ0d6j5hc+p0uaWj0wUE4NER2DgU7BIM2eDeCxaGD5ZfY4Gd+h5+WZG7Dxj8z6rgzwhhpL3qRsD2PKH8d/iT9U/Ltqc6c8Z9/vr8wflRaIbROg58dBvg+gH8p4W2P7sDxBoxPwPBu7tu/Ct4OeNsRVtkEBn7HjHcU1C6QMsNKepmB6+htNMK/oGDIgs6c8V94oXX2bP0xnshtAkOr1b2fS+yNIPoS4PJM+NHgTrPj4zAx3iFhA7wtArAOSMEbDehyoHYBFqY0UbyV9EbfSEGvHEILGLNM/uxZ/8UXW7Ozdcb43twmADtovy4VsUotZS0H/xtWVuDDa7C5GXzjBxSVZ8O0JKEjV9erpCtQ00IUPU/7e7lKVWQoCLcf1q64onRY02JlLf7Zdhvuust78sldX/ziANRXExN90XvkqgOXZMJHd+AIt9rw8DDcPA1wgyyIF+u9qhxVuXUTYH4uMf8U9WBlcE6bmfcF45VW/PH5svlLL7V/+1vdAn9V1URu8fP2drcDyR37dRLgMjLhiTbcy/XvUe1vw8RoTKgcyzDHaiQBjmbRLPv19Ml2BHI5rra8bSeFmMUOL7/cfvnlrDG+HbzbyOfwwSdjy28LRqW+FmyVjZ8/5oh9/XVwR9iN1A2hBS2twcYKWYppZESxkg4Vv6oO7f5h8n2xV4me4VfVYf7ZaoUNGJk0wKbNqC2zTixdVixLXnaP3TyKfuwvfKFx553eK6+0zp9PlRjfDt7tnfegrIbvFLw7eMHbQNXVcq/3yGEHdiOKJtoAWCb/3b+fbLL3yvYrt+H9UxU8a601epFuhzDfORzrvYY1bsOjzuH58/7vf2/C2DvssRVLvNs8/3b6SnZd9U6ILz35n1DR+HndyfKVww78Rjn9SaKCzmG6EuLSEtxyC4yORkZuyFZMTZVJsF9+zEbnIiGBvIfzPkwpZW4MxNO6tLNBJsKqevwHkMUNHeu68R13eJ/8ZOP8efI99Q57BFc/WGqXTbEMX0wfOF/l39HM82mAv0Hl1HK1fOUwwH8vAeALuyQHjhZrr1whsfTkZBhRU8kMCxLAloNnDkh2nse468ntNu+93R3DzZmUH4bpvWCw9/s7hK73d+DatD/wgwGBuoiFdk4mQ5ft5wzwkSN9Mfi5CgCXYsJX4eIaHKGTgbeCO7NI2tiAy5cJw5OTam4NDDMxmHl0qRvzaTCV5MaMWE9AV6hCCx+DUApwYYecfa8J7wc7TGEkPRG4bnjKYsdmX9i5NVj3s2odSM7ar8MA52fCV7nHeW4f4AJJheN/yBcXCcm8FRsYZqUs4aQQPPMOrBx0zVsxs272jrwbv78Tgkq5jbAq/bh0Q2HhqaTuqtkndSw+3s4N4Imc6XXTfh0GOBMTvtqFk7DK9vW6cAGWlwnD5i8EtWIaUY+OmhjmJznw+a3kwGL5SoNxJH6+0PIvtjr7jFtzOB3B2cR2JNNNxzDzdnb+XwH+ByoaP3/snv26DXDOrOq0vEw2m5Imi6jpPbh0XUqslCXltwo35upbEYzp48UWfNCGi632xRa7euQjeTbdChFPjJyPHAlRuGXqyx2q8+d8GJ6YyLd85ab9ug2wMorWB8DZankZXn0VjlpH1FNTxJAZoux+hYHCfJW3UL6azVehGeoCxlSHG/BfG9xd3sh0x8iHocwYMFZAFX1a2yzhfoR/vUW7HD9vRW9c5qYcBpiM9+vchbQ3U00t+4j60iXRiuVilcwtFTvU17e6+/5135uiMbQKhuBkBONOM9F1NSBpjdfsq7Ft2OGDAP8L7sfPLbd7jyoCMB8YlyQaUVta8eIi3HYbyYqVKbFNf48B3fBSiz5MBXDGWZm2QMW1UL9EZ6rCj4DBV1UZdVc5MNxvvUcVAdgZWVoxALHikRE4cICN+giHXsjS1ai4fbGjOHguQlIkWpY9mT/jW8TM0nkrU0165hZwfwWsVhXsFwHOxYo3NmBujoTTwg3mqfghzSwxFg4NDnz4gDdHkaDneZJj00t16UozXFmX0OouFXeR7mHWAPdh75Gr84Gd14ULpLi1HIyRNmthgWC8vh6ZDNyJpcNl6/jpxMpDfpHKcF7xQsSK2RbMFgxQZJvUhj9D23cnGwgted+WIYw9o2vG9CBkpfFxyC9+dtx+EeCUevNNssViHFixPzfn06VYDKCGBSpffRhsfth4IUqpgHGneXAJNZYK1HX4+QnPUEOXZyDJzR4AZ+PnVhV6j5gQ4JRaXiYMX7wY35JifP26AVQCp7x2B9vnl+YgWjDWpXSGzE5qXqLj2QpI7hfEqiUABLdudVBb1bFfzIGLK24tLBAfnpryRkdtp3D6wfisbgdS8L2/dbJxaantTVpkvKSJRe6qfm/237jOJ7ml4S38anQgVcV+0YGLtuJLl/yFhXAyvZQYi4fSjdE69hnnmaF6a6YOxeVXGc7I1886ip6YyOu+oZWwXwQ4M124YJUVUyuenW3T4lZsBYsGsML9DWEpU1wVTaLht/Ll8kndGxnOf8q5+vPOTpXsF0PoLGU/iDroLm6PjHhBRC2O9OD7k4ROpjAhXfS9cC5+VF6qkFWMka2jbpt+o0SfpOz4udUpX83PV8N+0YHzGkRtF1H7ly61+YharmAFh6EJ08Nb9utTaBsT1jfoxsyGuDfWWhM1vh+ccuCtrYrZLwLsREQd9DP5uhWkWT4cxs/UiBdZP66qsMwrNqhWdiwZLiKdV3wGe/jTZsL59R7NV4deBNiR4hax4rm59vp62J8kFbEieBNF0+AIzeY+XqlXSc2/3RXE4nMK077flfh5K7Df1VUEGJXKillEHS1iiYZsl9V2eVciF4mWbSpb5i7iRKYt80wnnJWtVgXtF4tYzhW3FhfbGxve5KQ3MtJd9SrY8em8iJvHgxkOS5o6liRCmMetbpOqsmX1lPmyhmdv7kztLm8AVqtVpa4jXujAhRa3LK348uX25cttuSuYzWpQ9yTp1AmYtWlwKgcOh11ZVssMz/ZWysowfq6c/SLAjg6iphi/+25rfZ32HYWZMMuQe5IZ19hStuULzW8t6P4yE+BWUL6qov0iwE4Xt4LFqIkVM4wpyTdPBjHxkga22C2193INTIO0dC+0L27FKdv4eauy9osAV6O4deUK6y4mX3aaBieIoi1htuglFgvdhpfbfBKm+0qjt1Vl+0WAK2PFS0vEijc2olF0CsvlZcFzAmKThuJCy/tKi5+hsvaLAFfJijc3iRVfudIaHyaH/pJm7EQWsXR0sr/+LXp04FSdSdk68M5Ohe0Xu5Hc6meymZa4uekDXRR6OU32GEr/wmy6miwb8DpUWvw8OwvVFTpwJSNqhVJ5r5DZ2obKCfNnW91n+3/JJmCx0dZWhYNnKnTgqq4QQLQE0GlmNUbLEqpsrdVe9wWr+WcasMTaLwKMKm35S3/FZwAHx8nfLJNQuXCGM8F4q/r2iwBX1YonRmB5wy5STYpfkbj2rOUeMF5ZqQPAmAO7K5rvvfmm9AS7O9JKb4looj6nYpSkQ7iX8kENgmcqBLiCg6jZsuO0EJ2u86Z0VjNlGDpLdltivLBQ4a4jXghwJQdRT3TuLa5QVUAtr1+91SJ3wKmHMAeuZnGLN+Ecbk1QpqzrWKkT49rYb+zt3FEuinwpp2B5IDg4HGw10997ZZhJxrjVIhZdG4DRgasnEh8OEIZrq55N2ODGdbJfBLiy2tAXoistmrFnfVPoZQ7j2mS/VAhwNRXcLa3yABdbYFsOMK6ZsApdfVWFYfvyeEbxcz8IAa6sXI6ie+x2zjqErrEQ4OpH0aUr255npDeJMAdGOZa4YvycRAhwZVVMCN1nA7kqJwS4ssq8EO0Cq1cxhE4mzIFroRQM9/eQ6doIAe6PKLoquGICnFAIcB0L0VXBVRbGzwmFOXBdVCFKdUJ6kwsduMpyeSxHCmH8nFwIcJXlzlgOVElCgFFuCDuQUgkBrksUjepLIcAVV22iaEyAUwkBroVqUMTC+DmVEOCKqx4hNNKbVghwxVWPEBoBTisEGOWAanGThFKEAFdfNYii0YHTCgGuvqoeRSO9PQgBRpUt7EDqQQhwXULo6vYkoQP3IAQYVaqQ3t6E0wmrr/UqD3vG+Lk3IcC10EZFcJ1Hy81YCHAttO4ksYhr/kKA66IbJd0oGHEtVQgwKokQV8eEANdCOeXAiKvzQoBroUxyYMS1gkKA+5VhLA7XQghw30TRb3R2ENcaCQGuqTAeRqGqpFGA+wAOlf0xUCgUCoVCoVAoFAqFQqFQKBQKhUKhUCgUCoVCoVAoFAqFQqFQKChG/w/asfbiq6tyjQAAAABJRU5ErkJggg==\"/></td></tr></table>"
      ],
      "text/plain": [
       "<IPython.core.display.HTML object>"
      ]
     },
     "metadata": {},
     "output_type": "display_data"
    },
    {
     "name": "stdout",
     "output_type": "stream",
     "text": [
      "Contact points between Coffee_Table and Plush_Armchair \n",
      "\tat [-136.36038969  264.14213562   20.        ], \n",
      "\tdistance: -13.639610306789276\n",
      "Contact points between Coffee_Table and Plush_Armchair \n",
      "\tat [-136.36038969  264.14213562  -40.        ], \n",
      "\tdistance: -13.639610306789276\n",
      "Contact points between Coffee_Table and Elegant_Armchair \n",
      "\tat [136.36038969 264.14213562  20.        ], \n",
      "\tdistance: -13.639610306789276\n",
      "Contact points between Coffee_Table and Elegant_Armchair \n",
      "\tat [136.36038969 264.14213562 -40.        ], \n",
      "\tdistance: -13.639610306789276\n",
      "Contact points between Dining_Table and Table_Lamp \n",
      "\tat [ -30. -330.   85.], \n",
      "\tdistance: -25.0\n",
      "Contact points between Dining_Table and Table_Lamp \n",
      "\tat [  30. -330.   85.], \n",
      "\tdistance: -25.0\n",
      "Contact points between Dining_Table and Table_Lamp \n",
      "\tat [ -30. -270.   85.], \n",
      "\tdistance: -25.0\n",
      "Contact points between Dining_Table and Table_Lamp \n",
      "\tat [  30. -270.   85.], \n",
      "\tdistance: -25.0\n"
     ]
    }
   ],
   "source": [
    "# Example of a living room\n",
    "model = mujoco.MjModel.from_xml_path(\"living_room.xml\")\n",
    "data = mujoco.MjData(model)\n",
    "mujoco.mj_kinematics(model, data)\n",
    "\n",
    "# Set up a camera to render the scene. Make renderer, render and show the pixel.\n",
    "camera = mujoco.MjvCamera()\n",
    "camera.lookat[:] = [0, 0, 0]  # Set the point the camera looks at\n",
    "camera.distance = 1200.0  # Set the distance from the object\n",
    "camera.azimuth = -55  # Set the azimuth angle (horizontal rotation)\n",
    "camera.elevation = -45  # Set the elevation angle (vertical rotation)\n",
    "with mujoco.Renderer(model) as renderer:\n",
    "    mujoco.mj_forward(model, data)\n",
    "    renderer.update_scene(data, camera=camera)\n",
    "    media.show_image(renderer.render())\n",
    "\n",
    "# Print all contacts between objects (due to collision)\n",
    "mujoco.mj_step(model, data)\n",
    "for i in range(data.ncon):  # data.ncon is the number of active contacts\n",
    "    contact = data.contact[i]\n",
    "    geom1 = mujoco.mj_id2name(model, mujoco.mjtObj.mjOBJ_GEOM, contact.geom1)\n",
    "    geom2 = mujoco.mj_id2name(model, mujoco.mjtObj.mjOBJ_GEOM, contact.geom2)\n",
    "    pos = contact.pos  # Contact position (x, y, z)\n",
    "    dist = contact.dist  # Penetration distance\n",
    "    print(\n",
    "        f\"Contact points between {geom1} and {geom2} \\n\\tat {pos}, \\n\\tdistance: {dist}\"\n",
    "    )\n",
    "\n",
    "    # Get contact force (debug only)\n",
    "    # force = np.zeros(6)  # Placeholder for force and torque\n",
    "    # mujoco.mj_contactForce(model, data, i, force)\n",
    "    # linear_force = force[:3]  # Linear force (x, y, z)\n",
    "    # torque = force[3:]  # Torque (rotational force)\n",
    "    # print(f\"Contact force: \\n\\tlinear = {linear_force}, torque = {torque}\\n\")"
   ]
  },
  {
   "cell_type": "code",
   "execution_count": 190,
   "id": "9b611dc3",
   "metadata": {},
   "outputs": [
    {
     "data": {
      "text/html": [
       "<table class=\"show_videos\" style=\"border-spacing:0px;\"><tr><td style=\"padding:1px;\"><video controls width=\"320\" height=\"240\" style=\"object-fit:cover;\" loop autoplay muted>\n",
       "      <source src=\"data:video/mp4;base64,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\" type=\"video/mp4\"/>\n",
       "      This browser does not support the video tag.\n",
       "      </video></td></tr></table>"
      ],
      "text/plain": [
       "<IPython.core.display.HTML object>"
      ]
     },
     "metadata": {},
     "output_type": "display_data"
    },
    {
     "name": "stdout",
     "output_type": "stream",
     "text": [
      "Virtual objects were corrected to non-colliding positions:\n",
      "Plush_Armchair: [-250.  250.   40.] -> [-276.33420315  247.54316814   43.62917179]\n",
      "Elegant_Armchair: [250. 250.  40.] -> [276.33420315 247.54316814  43.62917179]\n",
      "Table_Lamp: [   0. -300.  120.] -> [-4.69378737e-16 -3.00000000e+02  1.68991675e+02]\n"
     ]
    }
   ],
   "source": [
    "# Set num steps to iterate mj_step\n",
    "num_steps = 30\n",
    "\n",
    "# Reset state and time, save objects' initial positions\n",
    "mujoco.mj_resetData(model, data)\n",
    "mujoco.mj_kinematics(model, data)\n",
    "init_pos = np.copy(data.geom_xpos)\n",
    "\n",
    "# Simulate and display video.\n",
    "frames = []\n",
    "with mujoco.Renderer(model) as renderer:\n",
    "    for step in range(num_steps):\n",
    "        data.qvel = np.zeros(data.qvel.size)\n",
    "        mujoco.mj_step(model, data)\n",
    "        renderer.update_scene(data, camera=camera)\n",
    "        pixels = renderer.render()\n",
    "        frames.append(pixels)\n",
    "media.show_video(frames)\n",
    "\n",
    "# Print befoer and after object positions\n",
    "final_pos = np.copy(data.geom_xpos)\n",
    "print(\"Virtual objects were corrected to non-colliding positions:\")\n",
    "for i in range(model.ngeom):\n",
    "    if (init_pos[i] != final_pos[i]).any():\n",
    "        geom_name = mujoco.mj_id2name(model, mujoco.mjtObj.mjOBJ_GEOM, i)\n",
    "        print(f\"{geom_name}: {init_pos[i]} -> {final_pos[i]}\")"
   ]
  }
 ],
 "metadata": {
  "kernelspec": {
   "display_name": "Python 3",
   "language": "python",
   "name": "python3"
  },
  "language_info": {
   "codemirror_mode": {
    "name": "ipython",
    "version": 3
   },
   "file_extension": ".py",
   "mimetype": "text/x-python",
   "name": "python",
   "nbconvert_exporter": "python",
   "pygments_lexer": "ipython3",
   "version": "3.13.2"
  }
 },
 "nbformat": 4,
 "nbformat_minor": 5
}
